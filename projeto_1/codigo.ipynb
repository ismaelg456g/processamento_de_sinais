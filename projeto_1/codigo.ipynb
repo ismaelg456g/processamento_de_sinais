{
 "cells": [
  {
   "cell_type": "code",
   "execution_count": null,
   "metadata": {},
   "outputs": [],
   "source": [
    "#160124450 -> 1001100010110100111000100010\n",
    "import datetime\n",
    "from pandas import *\n",
    "import matplotlib.mlab as mlab\n",
    "import scipy.signal as signal\n",
    "import matplotlib.pyplot as plt\n",
    "import numpy as np\n",
    "import pandas as pd\n",
    "import seaborn as sns\n"
   ]
  },
  {
   "cell_type": "code",
   "execution_count": 42,
   "metadata": {},
   "outputs": [],
   "source": [
    "def convolucao(vet_1, vet_2):\n",
    "    aux_1=[]\n",
    "    aux_2=[]\n",
    "    resposta=[]\n",
    "    for i in range(len(vet_1)):\n",
    "        aux_1.append(vet_1[i])\n",
    "    for i in range(len(vet_2)):\n",
    "        aux_2.append(vet_2[-1-i])\n",
    "    for i in range(len(vet_1)):\n",
    "        aux_1.insert(0,0)\n",
    "    for i in range(len(vet_2)-1):\n",
    "        aux_2.append(0)   \n",
    "    aux_2.insert(0,0)\n",
    "    for i in range(len(aux_1)-1):\n",
    "        resposta.append(0)\n",
    "        for j in range(len(aux_1)):\n",
    "            resposta[i]+=aux_1[j]*aux_2[j]\n",
    "        del aux_2[len(aux_2)-1]\n",
    "        aux_2.insert(0,0)\n",
    "\n",
    "    return resposta;\n",
    "    "
   ]
  },
  {
   "cell_type": "code",
   "execution_count": 43,
   "metadata": {},
   "outputs": [
    {
     "name": "stdout",
     "output_type": "stream",
     "text": [
      "[1, 1, 1, 2, 3, 3, 3, 3, 4, 4, 5, 6, 6, 7, 7, 7, 8, 9, 10, 10, 10, 10, 11, 11, 11, 11, 12, 12, 11, 11, 11, 10, 9, 9, 9, 9, 8, 8, 7, 6, 6, 5, 5, 5, 4, 3, 2, 2, 2, 2, 1, 1, 1, 1, 0]\n",
      "[1, 0, 0, 1, 1, 0, 0, 0, 1, 0, 1, 1, 0, 1, 0, 0, 1, 1, 1, 0, 0, 0, 1, 0, 0, 0, 1, 0]\n",
      "[1, 1, 1, 1, 1, 1, 1, 1, 1, 1, 1, 1, 1, 1, 1, 1, 1, 1, 1, 1, 1, 1, 1, 1, 1, 1, 1, 1]\n"
     ]
    }
   ],
   "source": [
    "matricula=[1,0,0,1,1,0,0,0,1,0,1,1,0,1,0,0,1,1,1,0,0,0,1,0,0,0,1,0]\n",
    "degrau=[1,1,1,1,1,1,1,1,1,1,1,1,1,1,1,1,1,1,1,1,1,1,1,1,1,1,1,1]\n",
    "oi=convolucao(matricula,degrau)\n",
    "print(oi)\n",
    "print(matricula)\n",
    "print(degrau)"
   ]
  },
  {
   "cell_type": "code",
   "execution_count": null,
   "metadata": {},
   "outputs": [],
   "source": []
  }
 ],
 "metadata": {
  "kernelspec": {
   "display_name": "Python 3",
   "language": "python",
   "name": "python3"
  },
  "language_info": {
   "codemirror_mode": {
    "name": "ipython",
    "version": 3
   },
   "file_extension": ".py",
   "mimetype": "text/x-python",
   "name": "python",
   "nbconvert_exporter": "python",
   "pygments_lexer": "ipython3",
   "version": "3.7.3"
  }
 },
 "nbformat": 4,
 "nbformat_minor": 2
}
